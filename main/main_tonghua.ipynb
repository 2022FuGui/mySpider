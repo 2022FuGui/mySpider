{
 "cells": [
  {
   "cell_type": "code",
   "execution_count": 5,
   "metadata": {
    "collapsed": true,
    "ExecuteTime": {
     "end_time": "2024-03-16T05:23:44.352304800Z",
     "start_time": "2024-03-16T05:23:44.316781800Z"
    }
   },
   "outputs": [],
   "source": [
    "import requests\n",
    "from bs4 import BeautifulSoup\n",
    "# 多线程执行\n",
    "import threading\n",
    "# 延迟执行\n",
    "\"\"\"\n",
    "    author:李梓瑀\n",
    "    start_date:2024-03-11\n",
    "    end_date:2024-03-12\n",
    "    待爬取信息:同花顺表格\n",
    "    难点:ip封锁,请求头Cookie特殊参数,环境缺失\n",
    "    解决方法:使用本地ip池,逆向补齐环境\n",
    "\"\"\"\n",
    "requests.models.Response.encoding = 'utf-8'\n",
    "# 请求列表,获取前12页数据\n",
    "urllist = [f\"https://q.10jqka.com.cn/zs/index/field/zdf/order/desc/page/{i}/ajax/1/\" for i in range(1,13)]\n",
    "# ip地址池列表\n",
    "ipUrl = \"http://localhost:5555/random\"\n",
    "# 存储请求头\n",
    "myHeaders = {\n",
    "    \"User-Agent\":\"Mozilla/5.0 (Windows NT 10.0; Win64; x64) AppleWebKit/537.36 (KHTML, like Gecko) Chrome/122.0.0.0 Safari/537.36\",\n",
    "    \"Host\":\"q.10jqka.com.cn\",\n",
    "    \"Referer\":\"https://q.10jqka.com.cn/zs/\"\n",
    "}\n",
    "# 设置数据列表\n",
    "dataList = []\n",
    "# 设置线程池\n",
    "threads = []\n",
    "# 创建表格类,存储每一列\n",
    "class TableData:\n",
    "    # 序号\n",
    "    number:str = None\n",
    "    # 代码\n",
    "    code:str = None\n",
    "    # 名称\n",
    "    name:str = None\n",
    "    # 最新价\n",
    "    newPrice:str = None\n",
    "     # 涨跌额\n",
    "    upsAndDowns:str = None\n",
    "    # # 涨跌幅\n",
    "    quoteChange:str = None\n",
    "    # 昨收\n",
    "    yesPrice:str = None\n",
    "    # 今开\n",
    "    toDayPrice:str = None\n",
    "    # 最高价\n",
    "    maxPrice:str = None\n",
    "    # 最底价\n",
    "    minPrice:str = None\n",
    "    # 成交量\n",
    "    volume:str = None\n",
    "    # 成交价格\n",
    "    volumePrice:str = None\n",
    "    # 全参构造\n",
    "    def __init__(self,number,code,name,newPrice,upsAndDowns,quoteChange,yesPrice,toDayPrice,maxPrice,minPrice,volume,volumePrice):\n",
    "        self.number = number\n",
    "        self.code = code\n",
    "        self.name = name\n",
    "        self.newPrice = newPrice\n",
    "        self.upsAndDowns = upsAndDowns\n",
    "        self.quoteChange = quoteChange\n",
    "        self.yesPrice = yesPrice\n",
    "        self.toDayPrice = toDayPrice\n",
    "        self.maxPrice = maxPrice\n",
    "        self.minPrice = minPrice\n",
    "        self.volume = volume\n",
    "        self.volumePrice = volumePrice\n"
   ]
  },
  {
   "cell_type": "code",
   "execution_count": 6,
   "outputs": [],
   "source": [
    "import execjs\n",
    "# 获取js中的cookie加密参数v\n",
    "def getCK():\n",
    "    text = execjs.compile(open(r'./js/同花顺cookie生成算法.js').read())\n",
    "    return text.call(\"getCK\").split(\";\")[0].strip(\"v=\")"
   ],
   "metadata": {
    "collapsed": false,
    "ExecuteTime": {
     "end_time": "2024-03-16T05:23:44.404032Z",
     "start_time": "2024-03-16T05:23:44.323753100Z"
    }
   }
  },
  {
   "cell_type": "code",
   "execution_count": 7,
   "outputs": [
    {
     "name": "stdout",
     "output_type": "stream",
     "text": [
      "线程结束\n"
     ]
    }
   ],
   "source": [
    "# 从地址池获取地址\n",
    "def getIpByPools():\n",
    "    ipUrl = \"http://localhost:5555/random\"\n",
    "    res = requests.get(ipUrl)\n",
    "    return res.text\n",
    "# 获取表格数据存入数据列表\n",
    "def getTableData(url):\n",
    "    # 渲染页面\n",
    "    global dataList\n",
    "    proxies = {\n",
    "        'http': getIpByPools().split(\":\")[0]\n",
    "    }\n",
    "    ck = {\n",
    "        \"v\":getCK()\n",
    "    }\n",
    "    res = requests.get(url=url,headers=myHeaders,proxies=proxies,cookies=ck)\n",
    "    bs_html = BeautifulSoup(res.text)\n",
    "    for tr in bs_html.select(\".m-table tbody tr\"):\n",
    "        # 空列表存储数据\n",
    "        mylis = []\n",
    "        for td in tr.select(\"td\"):\n",
    "            data = td.text.split()\n",
    "            mylis.append(data)\n",
    "        #  设置表格数据\n",
    "        table = TableData(mylis[0][0],mylis[1][0],mylis[2][0],mylis[3][0],mylis[4][0],mylis[5][0],mylis[6][0],mylis[7][0],mylis[8][0],mylis[9][0],mylis[10][0],mylis[11][0])\n",
    "        dataList.append(table)\n",
    "# 多线程爬取\n",
    "def getTonghua():\n",
    "    global threads\n",
    "    for url in urllist:\n",
    "        # 开线程\n",
    "        thread = threading.Thread(target=getTableData,args=(url,))\n",
    "        thread.start()\n",
    "        # 加入线程池\n",
    "        threads.append(thread)\n",
    "    for thread in threads:\n",
    "        thread.join()\n",
    "    print(\"线程结束\")\n",
    "getTonghua()"
   ],
   "metadata": {
    "collapsed": false,
    "ExecuteTime": {
     "end_time": "2024-03-16T05:23:48.071289100Z",
     "start_time": "2024-03-16T05:23:44.341676600Z"
    }
   }
  },
  {
   "cell_type": "code",
   "execution_count": 8,
   "metadata": {
    "collapsed": false,
    "ExecuteTime": {
     "end_time": "2024-03-16T05:23:54.531924500Z",
     "start_time": "2024-03-16T05:23:48.071289100Z"
    }
   },
   "outputs": [
    {
     "name": "stdout",
     "output_type": "stream",
     "text": [
      "爬虫完成!\n"
     ]
    }
   ],
   "source": [
    "# 存储数据\n",
    "import openpyxl\n",
    "import os\n",
    "import datetime\n",
    "import time as times\n",
    "# 使用openpyxl存储数据\n",
    "# 新建工作簿\n",
    "path = r\"../数据集/同花顺大A.xlsx\"\n",
    "# 没有则新建,有则获取到sheet工作表\n",
    "titleHeader = [\"序号\",\"指数代码\",\"指数名称\",\"最新价\",\"涨跌额\",\"涨跌幅%\",\"昨收\",\"今开\",\"最高价\",\"最低价\",\"成交量(万手)\",\"成交额(亿元)\"]\n",
    "# 如果有则创建\n",
    "if not os.path.exists(path):\n",
    "    wb = openpyxl.Workbook()\n",
    "    wb.save(path)\n",
    "else:\n",
    "    wb = openpyxl.load_workbook(path)\n",
    "# 移除默认工作表\n",
    "if \"Sheet\" in wb.sheetnames:\n",
    "    wb.remove(wb['Sheet'])\n",
    "# 创建与今天日期相同的sheet工作表\n",
    "date = datetime.datetime.now()\n",
    "year = date.year\n",
    "month = date.month\n",
    "day = date.day\n",
    "time = f\"{year}_{month}_{day}\"\n",
    "if time not in wb.sheetnames:\n",
    "    wb.create_sheet(time)\n",
    "# 存储数据\n",
    "wb.save(path)\n",
    "sheet = wb[time]\n",
    "# 设置单元格标题\n",
    "if sheet.cell(1,1).value != titleHeader[0]:\n",
    "    for i in range(1,len(titleHeader)+1):\n",
    "        sheet.cell(1,i).value = titleHeader[i-1]\n",
    "    wb.save(path)\n",
    "# 存入数据\n",
    "for data in dataList:\n",
    "    # 对象解构为列表\n",
    "   sheet.append(list(vars(data).values()))\n",
    "# 设置一下列宽\n",
    "sheet.column_dimensions['K'].width = 30\n",
    "sheet.column_dimensions['L'].width = 30\n",
    "wb.save(path)\n",
    "times.sleep(5)\n",
    "print(\"爬虫完成!\")"
   ]
  }
 ],
 "metadata": {
  "kernelspec": {
   "display_name": "Python 3",
   "language": "python",
   "name": "python3"
  },
  "language_info": {
   "codemirror_mode": {
    "name": "ipython",
    "version": 3
   },
   "file_extension": ".py",
   "mimetype": "text/x-python",
   "name": "python",
   "nbconvert_exporter": "python",
   "pygments_lexer": "ipython3",
   "version": "3.11.4"
  }
 },
 "nbformat": 4,
 "nbformat_minor": 0
}
