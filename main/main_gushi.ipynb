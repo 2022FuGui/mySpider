{
 "cells": [
  {
   "cell_type": "code",
   "execution_count": 1,
   "outputs": [],
   "source": [
    "import requests\n",
    "from bs4 import BeautifulSoup\n",
    "# 多线程执行\n",
    "import threading\n",
    "\"\"\"\n",
    "    author:李梓瑀\n",
    "    date:2024-03-08\n",
    "\"\"\"\n",
    "# 待爬取信息:唐诗三百首,类型,诗歌作者,年代,诗歌本体\n",
    "# 修改全局默认编码方式为 UTF-8\n",
    "requests.models.Response.encoding = 'utf-8'\n",
    "# 设置路径字典\n",
    "urlDict = {\n",
    "    \"baseUrl\":\"https://so.gushiwen.cn\",\n",
    "    # 子路由\n",
    "    \"childUrl\":{\n",
    "        # 诗文\n",
    "        \"shiwens\":\"/shiwens\",\n",
    "        # 名句\n",
    "        \"mingjus\":\"/mingjus\",\n",
    "        # 作者\n",
    "        \"authors\":\"/authors\",\n",
    "        # 古文\n",
    "        \"guwen\":\"/guwen\",\n",
    "        # 古诗\n",
    "        \"gushi\":{\n",
    "            # 唐诗三百首\n",
    "            \"tangshi\":\"/gushi/tangshi.aspx\",\n",
    "            #古诗三百首\n",
    "            \"gushi\":\"/gushi/sanbai.aspx\"\n",
    "        },\n",
    "        # 我的\n",
    "        \"my\":\"/user/collect.aspx\"\n",
    "    }\n",
    "}\n",
    "# 设置请求头信息\n",
    "myHeaders = {\n",
    "    # 设置cookie\n",
    "    \"Cookie\":\"gswZhanghao=15042070108; login=flase; b-user-id=8912c27c-b8b1-3ea1-e04c-96ad0cb19798; ticketStr=208361286%7cgQE48DwAAAAAAAAAAS5odHRwOi8vd2VpeGluLnFxLmNvbS9xLzAyTzBmTFJDbGVkN2kxZFMxY05DMXAAAgR2NOVlAwQAjScA; Hm_lvt_9007fab6814e892d3020a64454da5a55=1709518422,1709861171; gsw2017user=5723808%7c6A5471B38CFFFF27880E4F7E9679CF7Aec6584b1%7c2000%2f1%2f1%7c2000%2f1%2f1; login=flase; wxopenid=oVc5H0nj-AeE99803X475zDXAWuM; Hm_lpvt_9007fab6814e892d3020a64454da5a55=1709862947\",\n",
    "    # 设置UA\n",
    "    \"User-Agent\":\"Mozilla/5.0 (Windows NT 10.0; Win64; x64) AppleWebKit/537.36 (KHTML, like Gecko) Chrome/122.0.0.0 Safari/537.36\"\n",
    "}\n",
    "# 设置诗歌数据列表\n",
    "dataList = []\n",
    "# 设置线程池\n",
    "threads = []\n",
    "# 设置诗歌类\n",
    "class Poetry:\n",
    "    # 诗歌名\n",
    "    name:str = None\n",
    "    # 诗歌作者\n",
    "    author:str = None\n",
    "    # 作者朝代\n",
    "    dynasty:str = None\n",
    "    # 诗歌本体\n",
    "    body:str = None\n",
    "    # 参考资料\n",
    "    info:str = None\n",
    "    def __init__(self,name,author,dynasty,body,info):\n",
    "        self.name = name\n",
    "        self.author = author\n",
    "        self.dynasty = dynasty\n",
    "        self.body = body\n",
    "        self.info = info"
   ],
   "metadata": {
    "collapsed": false,
    "ExecuteTime": {
     "end_time": "2024-03-15T02:12:00.884868900Z",
     "start_time": "2024-03-15T02:12:00.624032200Z"
    }
   }
  },
  {
   "cell_type": "code",
   "execution_count": 2,
   "outputs": [
    {
     "ename": "KeyboardInterrupt",
     "evalue": "",
     "output_type": "error",
     "traceback": [
      "\u001B[1;31m---------------------------------------------------------------------------\u001B[0m",
      "\u001B[1;31mKeyboardInterrupt\u001B[0m                         Traceback (most recent call last)",
      "Cell \u001B[1;32mIn[2], line 44\u001B[0m\n\u001B[0;32m     41\u001B[0m             thread\u001B[38;5;241m.\u001B[39mjoin()\n\u001B[0;32m     42\u001B[0m \u001B[38;5;66;03m# 古诗合集\u001B[39;00m\n\u001B[0;32m     43\u001B[0m \u001B[38;5;66;03m# def getGUshi():\u001B[39;00m\n\u001B[1;32m---> 44\u001B[0m \u001B[43mgetTangshi\u001B[49m\u001B[43m(\u001B[49m\u001B[43m)\u001B[49m\n",
      "Cell \u001B[1;32mIn[2], line 41\u001B[0m, in \u001B[0;36mgetTangshi\u001B[1;34m()\u001B[0m\n\u001B[0;32m     38\u001B[0m     threads\u001B[38;5;241m.\u001B[39mappend(thread)\n\u001B[0;32m     39\u001B[0m \u001B[38;5;28;01mfor\u001B[39;00m thread \u001B[38;5;129;01min\u001B[39;00m threads:\n\u001B[0;32m     40\u001B[0m     \u001B[38;5;66;03m# 暂时阻塞\u001B[39;00m\n\u001B[1;32m---> 41\u001B[0m     \u001B[43mthread\u001B[49m\u001B[38;5;241;43m.\u001B[39;49m\u001B[43mjoin\u001B[49m\u001B[43m(\u001B[49m\u001B[43m)\u001B[49m\n",
      "File \u001B[1;32mD:\\python\\Lib\\threading.py:1112\u001B[0m, in \u001B[0;36mThread.join\u001B[1;34m(self, timeout)\u001B[0m\n\u001B[0;32m   1109\u001B[0m     \u001B[38;5;28;01mraise\u001B[39;00m \u001B[38;5;167;01mRuntimeError\u001B[39;00m(\u001B[38;5;124m\"\u001B[39m\u001B[38;5;124mcannot join current thread\u001B[39m\u001B[38;5;124m\"\u001B[39m)\n\u001B[0;32m   1111\u001B[0m \u001B[38;5;28;01mif\u001B[39;00m timeout \u001B[38;5;129;01mis\u001B[39;00m \u001B[38;5;28;01mNone\u001B[39;00m:\n\u001B[1;32m-> 1112\u001B[0m     \u001B[38;5;28;43mself\u001B[39;49m\u001B[38;5;241;43m.\u001B[39;49m\u001B[43m_wait_for_tstate_lock\u001B[49m\u001B[43m(\u001B[49m\u001B[43m)\u001B[49m\n\u001B[0;32m   1113\u001B[0m \u001B[38;5;28;01melse\u001B[39;00m:\n\u001B[0;32m   1114\u001B[0m     \u001B[38;5;66;03m# the behavior of a negative timeout isn't documented, but\u001B[39;00m\n\u001B[0;32m   1115\u001B[0m     \u001B[38;5;66;03m# historically .join(timeout=x) for x<0 has acted as if timeout=0\u001B[39;00m\n\u001B[0;32m   1116\u001B[0m     \u001B[38;5;28mself\u001B[39m\u001B[38;5;241m.\u001B[39m_wait_for_tstate_lock(timeout\u001B[38;5;241m=\u001B[39m\u001B[38;5;28mmax\u001B[39m(timeout, \u001B[38;5;241m0\u001B[39m))\n",
      "File \u001B[1;32mD:\\python\\Lib\\threading.py:1132\u001B[0m, in \u001B[0;36mThread._wait_for_tstate_lock\u001B[1;34m(self, block, timeout)\u001B[0m\n\u001B[0;32m   1129\u001B[0m     \u001B[38;5;28;01mreturn\u001B[39;00m\n\u001B[0;32m   1131\u001B[0m \u001B[38;5;28;01mtry\u001B[39;00m:\n\u001B[1;32m-> 1132\u001B[0m     \u001B[38;5;28;01mif\u001B[39;00m \u001B[43mlock\u001B[49m\u001B[38;5;241;43m.\u001B[39;49m\u001B[43macquire\u001B[49m\u001B[43m(\u001B[49m\u001B[43mblock\u001B[49m\u001B[43m,\u001B[49m\u001B[43m \u001B[49m\u001B[43mtimeout\u001B[49m\u001B[43m)\u001B[49m:\n\u001B[0;32m   1133\u001B[0m         lock\u001B[38;5;241m.\u001B[39mrelease()\n\u001B[0;32m   1134\u001B[0m         \u001B[38;5;28mself\u001B[39m\u001B[38;5;241m.\u001B[39m_stop()\n",
      "\u001B[1;31mKeyboardInterrupt\u001B[0m: "
     ]
    }
   ],
   "source": [
    "#爬取数据\n",
    "# 获取歌曲信息\n",
    "def getInfo(url:str,type:str):\n",
    "    global dataList\n",
    "    detail_html = requests.get(url=url,headers=myHeaders).text\n",
    "    bs_detail = BeautifulSoup(detail_html)\n",
    "    # 诗歌详情\n",
    "    shige_details = bs_detail.select_one(\"#sonsyuanwen>.cont\")\n",
    "    # 诗歌译文及注释\n",
    "    shige_translation = bs_detail.select_one(\".cankao>div>span:nth-child(2)\")\n",
    "    author = shige_details.select_one(\".source>a\").text.strip()\n",
    "    # 作者朝代\n",
    "    dynasty = shige_details.select_one(\".source a:nth-child(2)\").text.strip()[1:-1]\n",
    "    # 诗歌原文\n",
    "    body = shige_details.select_one(\".contson\").text.strip()\n",
    "    # 诗歌参考资料\n",
    "    info = \"暂无参考资料\" if shige_translation is None else shige_translation.text.split(\"：\")[0].strip()\n",
    "    myPoetry = Poetry(type,author,dynasty,body,info)\n",
    "    dataList.append(myPoetry)\n",
    "# 唐诗三百首\n",
    "def getTangshi():\n",
    "    # 线程池\n",
    "    global threads\n",
    "    tangshi_url = urlDict['baseUrl']+urlDict['childUrl']['gushi']['tangshi']\n",
    "    sanbai_html = requests.get(url=tangshi_url,headers=myHeaders).text\n",
    "    #解析主页,按照类型\n",
    "    bs_tangshiByType = BeautifulSoup(sanbai_html).select(\".main3>.left>.sons>.typecont\")\n",
    "    #唐诗三百首解析\n",
    "    for poetry in bs_tangshiByType:\n",
    "        # 唐诗类型\n",
    "        type = poetry.select_one(\".bookMl>strong\").text\n",
    "        for detail in poetry.select(\"span\"):\n",
    "            newurl = urlDict['baseUrl']+detail.select_one(\"a\").get(\"href\")\n",
    "            # 创建一个线程,并执行getinfo方法\n",
    "            thread = threading.Thread(target=getInfo,args=(newurl,type))\n",
    "            thread.start()\n",
    "            # 加入线程池\n",
    "            threads.append(thread)\n",
    "        for thread in threads:\n",
    "            # 暂时阻塞\n",
    "            thread.join()\n",
    "# 古诗合集\n",
    "# def getGUshi():\n",
    "getTangshi()"
   ],
   "metadata": {
    "collapsed": false,
    "ExecuteTime": {
     "end_time": "2024-03-15T02:12:03.260296700Z",
     "start_time": "2024-03-15T02:12:00.888860700Z"
    }
   }
  },
  {
   "cell_type": "code",
   "execution_count": null,
   "outputs": [],
   "source": [
    "import openpyxl\n",
    "import os\n",
    "# 使用openpyxl存储数据\n",
    "# 新建工作簿\n",
    "path = r\"../数据集/诗歌数据.xlsx\"\n",
    "# 没有则新建,有则获取到sheet工作表\n",
    "titleHeader = [\"诗歌名称\",\"诗歌作者\",\"作者朝代\",\"诗歌原文\",\"参考资料\"]\n",
    "# 如果有则\n",
    "if not os.path.exists(path):\n",
    "    wb = openpyxl.Workbook()\n",
    "    wb.save(path)\n",
    "else:\n",
    "    wb = openpyxl.load_workbook(path)\n",
    "sheet = wb['Sheet']\n",
    "# 设置单元格标题\n",
    "if sheet.cell(1,1).value != titleHeader[0]:\n",
    "    for i in range(1,len(titleHeader)+1):\n",
    "        sheet.cell(1,i).value = titleHeader[i-1]\n",
    "    wb.save(path)\n",
    "# 存入数据\n",
    "for data in dataList:\n",
    "    # 对象解构为列表\n",
    "    sheet.append(list(vars(data).values()))\n",
    "# 设置列宽为80\n",
    "sheet.column_dimensions['D'].width = 80\n",
    "sheet.column_dimensions['E'].width = 80\n",
    "wb.save(path)"
   ],
   "metadata": {
    "collapsed": false
   }
  },
  {
   "cell_type": "code",
   "execution_count": null,
   "outputs": [],
   "source": [],
   "metadata": {
    "collapsed": false
   }
  }
 ],
 "metadata": {
  "kernelspec": {
   "display_name": "Python 3",
   "language": "python",
   "name": "python3"
  },
  "language_info": {
   "codemirror_mode": {
    "name": "ipython",
    "version": 2
   },
   "file_extension": ".py",
   "mimetype": "text/x-python",
   "name": "python",
   "nbconvert_exporter": "python",
   "pygments_lexer": "ipython2",
   "version": "2.7.6"
  }
 },
 "nbformat": 4,
 "nbformat_minor": 0
}
